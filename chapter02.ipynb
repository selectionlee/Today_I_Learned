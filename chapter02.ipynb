{
 "cells": [
  {
   "cell_type": "markdown",
   "id": "f3f8b677",
   "metadata": {},
   "source": [
    "## 2.3.1 간단한 구현부터"
   ]
  },
  {
   "cell_type": "code",
   "execution_count": 8,
   "id": "3b809789",
   "metadata": {},
   "outputs": [
    {
     "name": "stdout",
     "output_type": "stream",
     "text": [
      "0\n",
      "0\n",
      "0\n",
      "1\n"
     ]
    }
   ],
   "source": [
    "# AND 게이트 함수\n",
    "\n",
    "def AND(x1, x2):\n",
    "    w1, w2, theta = 0.5, 0.5, 0.7\n",
    "    tmp = x1*w1 + x2*w2\n",
    "    if tmp <= theta:\n",
    "        return 0\n",
    "    elif tmp > theta:\n",
    "        return 1\n",
    "    \n",
    "print(AND(0, 0))\n",
    "print(AND(0, 1))\n",
    "print(AND(1, 0))\n",
    "print(AND(1, 1))"
   ]
  },
  {
   "attachments": {
    "image-2.png": {
     "image/png": "[encoded data removed]"
    }
   },
   "cell_type": "markdown",
   "id": "59cb07c3",
   "metadata": {},
   "source": [
    "## 2.3.2 가중치와 편향 도입\n",
    "![image-2.png](attachment:image-2.png)\n",
    "* b는 편향, w1과 w2는 가중치\n",
    "* 퍼셉트론은 입력 신호에 가중치를 곱한 값과 편향을 합하여, 그 값이 0이 넘으면 1을 출력, 그렇지 않으면 0을 출력"
   ]
  },
  {
   "cell_type": "code",
   "execution_count": 9,
   "id": "a851b0e8",
   "metadata": {},
   "outputs": [
    {
     "name": "stdout",
     "output_type": "stream",
     "text": [
      "[0.  0.5]\n",
      "0.5\n"
     ]
    },
    {
     "data": {
      "text/plain": [
       "-0.19999999999999996"
      ]
     },
     "execution_count": 9,
     "metadata": {},
     "output_type": "execute_result"
    }
   ],
   "source": [
    "import numpy as np\n",
    "x = np.array([0, 1]) # 입력 신호\n",
    "w = np.array([0.5, 0.5]) # 가중치\n",
    "b = -0.7 #편향 \n",
    "\n",
    "print(w*x)\n",
    "print(np.sum(w*x))\n",
    "np.sum(w*x) + b"
   ]
  },
  {
   "cell_type": "markdown",
   "id": "2d3d2b53",
   "metadata": {},
   "source": [
    "## 2.3.3 가중치와 편향 구현하기\n",
    "* 가중치는 각 입력 신호가 결과에 주는 영향력(중요도)을 조절해주는 매개변수\n",
    "* 편행은 뉴런이 얼마나 쉽게 활성화(결과로 1을 출력)하느냐를 조정하는 매개변수\n",
    "* 편향의 값은 뉴런이 얼마나 쉽게 활성화되는지 결정함(ex. b가 -0.1이면 각 입력 신호에 가중치를 곱한 값들의 합이 0.1을 초과할 때만 뉴런이 활성화함) "
   ]
  },
  {
   "cell_type": "code",
   "execution_count": 10,
   "id": "e97ff06c",
   "metadata": {},
   "outputs": [],
   "source": [
    "def AND(x1, x2): \n",
    "    x = np.array([x1, x2])\n",
    "    w = np.array([0.5, 0.5])\n",
    "    b = -0.7\n",
    "    tmp = np.sum(w*x) + b\n",
    "    if tmp <= 0:\n",
    "        return 0\n",
    "    else:\n",
    "        return 1"
   ]
  },
  {
   "cell_type": "code",
   "execution_count": 17,
   "id": "14473e32",
   "metadata": {},
   "outputs": [
    {
     "name": "stdout",
     "output_type": "stream",
     "text": [
      "1\n",
      "1\n",
      "1\n",
      "0\n"
     ]
    }
   ],
   "source": [
    "# NAND 게이트\n",
    "def NAND(x1, x2):\n",
    "    x = np.array([x1, x2])\n",
    "    w = np.array([-0.5, -0.5])\n",
    "    b = 0.7\n",
    "    tmp = np.sum(w*x) + b\n",
    "    if tmp <= 0:\n",
    "        return 0\n",
    "    else:\n",
    "        return 1\n",
    "\n",
    "print(NAND(0, 0))\n",
    "print(NAND(0, 1))  \n",
    "print(NAND(1, 0))  \n",
    "print(NAND(1, 1))  "
   ]
  },
  {
   "cell_type": "code",
   "execution_count": 20,
   "id": "1e6a0568",
   "metadata": {},
   "outputs": [
    {
     "name": "stdout",
     "output_type": "stream",
     "text": [
      "0\n",
      "1\n",
      "1\n",
      "1\n"
     ]
    }
   ],
   "source": [
    "# OR 게이트\n",
    "def OR(x1, x2):\n",
    "    x = np.array([x1, x2])\n",
    "    w = np.array([0.5, 0.5])\n",
    "    b = -0.2\n",
    "    tmp = np.sum(w*x) + b\n",
    "    if tmp <= 0:\n",
    "        return 0\n",
    "    else:\n",
    "        return 1\n",
    "\n",
    "print(OR(0, 0))\n",
    "print(OR(0, 1))  \n",
    "print(OR(1, 0))  \n",
    "print(OR(1, 1))"
   ]
  },
  {
   "cell_type": "markdown",
   "id": "520005c2",
   "metadata": {},
   "source": [
    "## 2.5.2 XOR 게이트 구현하기 "
   ]
  },
  {
   "cell_type": "code",
   "execution_count": 21,
   "id": "0a3d6760",
   "metadata": {},
   "outputs": [
    {
     "name": "stdout",
     "output_type": "stream",
     "text": [
      "0\n",
      "1\n",
      "1\n",
      "0\n"
     ]
    }
   ],
   "source": [
    "def XOR(x1, x2):\n",
    "    s1 = NAND(x1, x2)\n",
    "    s2 = OR(x1, x2)\n",
    "    y = AND(s1, s2)\n",
    "    return y\n",
    "\n",
    "print(XOR(0, 0))\n",
    "print(XOR(0, 1))  \n",
    "print(XOR(1, 0))  \n",
    "print(XOR(1, 1))"
   ]
  }
 ],
 "metadata": {
  "kernelspec": {
   "display_name": "Python 3 (ipykernel)",
   "language": "python",
   "name": "python3"
  },
  "language_info": {
   "codemirror_mode": {
    "name": "ipython",
    "version": 3
   },
   "file_extension": ".py",
   "mimetype": "text/x-python",
   "name": "python",
   "nbconvert_exporter": "python",
   "pygments_lexer": "ipython3",
   "version": "3.9.12"
  }
 },
 "nbformat": 4,
 "nbformat_minor": 5
}
