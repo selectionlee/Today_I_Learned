{
 "cells": [
  {
   "cell_type": "code",
   "execution_count": 17,
   "id": "e3185bfc",
   "metadata": {},
   "outputs": [
    {
     "ename": "NameError",
     "evalue": "name 'device' is not defined",
     "output_type": "error",
     "traceback": [
      "\u001b[1;31m---------------------------------------------------------------------------\u001b[0m",
      "\u001b[1;31mNameError\u001b[0m                                 Traceback (most recent call last)",
      "Input \u001b[1;32mIn [17]\u001b[0m, in \u001b[0;36m<cell line: 1>\u001b[1;34m()\u001b[0m\n\u001b[1;32m----> 1\u001b[0m model \u001b[38;5;241m=\u001b[39m torchvision\u001b[38;5;241m.\u001b[39mmodels\u001b[38;5;241m.\u001b[39mvgg16(pretrained\u001b[38;5;241m=\u001b[39m\u001b[38;5;28;01mTrue\u001b[39;00m)\u001b[38;5;241m.\u001b[39mto(\u001b[43mdevice\u001b[49m)\n\u001b[0;32m      2\u001b[0m features \u001b[38;5;241m=\u001b[39m \u001b[38;5;28mlist\u001b[39m(model\u001b[38;5;241m.\u001b[39mfeatures)\n\u001b[0;32m      4\u001b[0m \u001b[38;5;66;03m# only collect layers with output feature map size (W, H) < 50\u001b[39;00m\n",
      "\u001b[1;31mNameError\u001b[0m: name 'device' is not defined"
     ]
    }
   ],
   "source": [
    "model = torchvision.models.vgg16(pretrained=True).to(device)\n",
    "features = list(model.features)\n",
    "\n",
    "# only collect layers with output feature map size (W, H) < 50\n",
    "dummy_img = torch.zeros((1, 3, 800, 800)).float() # test image array\n",
    "\n",
    "req_features = []\n",
    "output = dummy_img.clone().to(device)\n",
    "\n",
    "for feature in features:\n",
    "    output = feature(output)\n",
    "#     print(output.size()) => torch.Size([batch_size, channel, width, height])\n",
    "    if output.size()[2] < 800//16: # 800/16=50\n",
    "        break\n",
    "    req_features.append(feature)\n",
    "    out_channels = output.size()[1]\n",
    "\n",
    "faster_rcnn_feature_extractor = nn.Sequential(*req_features)\n",
    "\n",
    "output_map = faster_rcnn_feature_extractor(imgTensor)"
   ]
  },
  {
   "cell_type": "code",
   "execution_count": null,
   "id": "209474e0",
   "metadata": {},
   "outputs": [],
   "source": []
  }
 ],
 "metadata": {
  "kernelspec": {
   "display_name": "Python 3 (ipykernel)",
   "language": "python",
   "name": "python3"
  },
  "language_info": {
   "codemirror_mode": {
    "name": "ipython",
    "version": 3
   },
   "file_extension": ".py",
   "mimetype": "text/x-python",
   "name": "python",
   "nbconvert_exporter": "python",
   "pygments_lexer": "ipython3",
   "version": "3.9.12"
  }
 },
 "nbformat": 4,
 "nbformat_minor": 5
}
